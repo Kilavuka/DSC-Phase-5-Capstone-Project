{
 "cells": [
  {
   "cell_type": "markdown",
   "metadata": {},
   "source": [
    "# DATA SCIENTIST JOB RECOMMENDER SYSTEM\n",
    "- Names: \n",
    "    - Ingavi Kilavuka\n",
    "    - Calvin Omwega\n",
    "    - Alvin Kimathi\n",
    "    - Ronny Kabiru\n",
    "    - Carol Mundia\n",
    "- Instructor: Maryann Mwikali\n",
    "- Modeling Focus: Hybrid NLP & Recommender system "
   ]
  },
  {
   "cell_type": "markdown",
   "metadata": {},
   "source": [
    "## 1. Business Understanding"
   ]
  },
  {
   "cell_type": "markdown",
   "metadata": {},
   "source": [
    "## Objective\n",
    "\n",
    "In the pursuit for jobs in our desired field, This project aims to:\n",
    "1. *Enhance Job Matching Precision*: Provide personalized job recommendations to users based on their input, focusing on job titles or descriptions that closely match the user's profile.\n",
    "2. *Improve User Engagement*: By offering relevant job suggestions, increase user interaction with the platform, leading to higher conversion rates (e.g., more job applications).\n",
    "3. *Expand Service Offerings*: Add more features to the recommendation system, such as recommendations based on salary expectations, location preferences, or industry-specific needs.\n",
    "4. *Increase Platform Reach*: Position the job recommender system as a unique selling point to attract more users to the platform."
   ]
  },
  {
   "cell_type": "markdown",
   "metadata": {},
   "source": [
    "## Problem Statement:\n",
    "\n",
    "In the rapidly evolving job market, especially within the data science and analytics field, users are often overwhelmed by the vast number of job opportunities available. Many struggle to find positions that align with their specific skills, experience, and preferences in this specialized domain. The problem is exacerbated by traditional job platforms, which often lack the capability to provide personalized recommendations tailored to the unique demands of data science and analytics roles. This project aims to address this gap by developing a job recommender system that helps users find data science and analytics jobs that closely match their job title or description preferences, thereby increasing the chances of finding a suitable position more quickly."
   ]
  },
  {
   "cell_type": "markdown",
   "metadata": {},
   "source": [
    "### Imports"
   ]
  },
  {
   "cell_type": "code",
   "execution_count": 215,
   "metadata": {},
   "outputs": [
    {
     "name": "stderr",
     "output_type": "stream",
     "text": [
      "[nltk_data] Downloading package punkt to\n",
      "[nltk_data]     C:\\Users\\HomePC\\AppData\\Roaming\\nltk_data...\n",
      "[nltk_data]   Package punkt is already up-to-date!\n",
      "[nltk_data] Downloading package stopwords to\n",
      "[nltk_data]     C:\\Users\\HomePC\\AppData\\Roaming\\nltk_data...\n",
      "[nltk_data]   Package stopwords is already up-to-date!\n"
     ]
    },
    {
     "name": "stdout",
     "output_type": "stream",
     "text": [
      "Requirement already satisfied: surprise in c:\\users\\homepc\\anaconda3\\envs\\learn-env\\lib\\site-packages (0.1)\n",
      "Requirement already satisfied: scikit-surprise in c:\\users\\homepc\\anaconda3\\envs\\learn-env\\lib\\site-packages (from surprise) (1.1.1)\n",
      "Requirement already satisfied: joblib>=0.11 in c:\\users\\homepc\\anaconda3\\envs\\learn-env\\lib\\site-packages (from scikit-surprise->surprise) (1.4.2)\n",
      "Requirement already satisfied: numpy>=1.11.2 in c:\\users\\homepc\\anaconda3\\envs\\learn-env\\lib\\site-packages (from scikit-surprise->surprise) (1.22.0)\n",
      "Requirement already satisfied: scipy>=1.0.0 in c:\\users\\homepc\\anaconda3\\envs\\learn-env\\lib\\site-packages (from scikit-surprise->surprise) (1.5.0)\n",
      "Requirement already satisfied: six>=1.10.0 in c:\\users\\homepc\\anaconda3\\envs\\learn-env\\lib\\site-packages (from scikit-surprise->surprise) (1.15.0)"
     ]
    },
    {
     "name": "stderr",
     "output_type": "stream",
     "text": [
      "\n",
      "[notice] A new release of pip is available: 24.1.2 -> 24.2\n",
      "[notice] To update, run: python.exe -m pip install --upgrade pip\n"
     ]
    },
    {
     "name": "stdout",
     "output_type": "stream",
     "text": [
      "\n"
     ]
    }
   ],
   "source": [
    "import pandas as pd\n",
    "import numpy as np\n",
    "import re\n",
    "import nltk\n",
    "from sklearn.preprocessing import LabelEncoder, OneHotEncoder\n",
    "from nltk.corpus import stopwords\n",
    "from nltk.stem import PorterStemmer\n",
    "from nltk.tokenize import word_tokenize\n",
    "nltk.download('punkt')\n",
    "nltk.download('stopwords')\n",
    "from collections import Counter\n",
    "from surprise import SVD, Dataset, Reader, accuracy\n",
    "from surprise.model_selection import GridSearchCV, train_test_split, cross_validate\n",
    "from surprise import accuracy\n",
    "import matplotlib.pyplot as plt\n",
    "import seaborn as sns\n",
    "! pip install surprise\n",
    "from surprise import SVD, KNNBasic, KNNWithMeans, Reader, Dataset,KNNBaseline\n",
    "from surprise.model_selection import cross_validate, train_test_split\n",
    "from surprise import accuracy\n",
    "from surprise.model_selection import cross_validate\n",
    "from sklearn.decomposition import TruncatedSVD\n",
    "from sklearn.feature_extraction.text import TfidfVectorizer\n",
    "from sklearn.metrics.pairwise import cosine_similarity\n",
    "from surprise.prediction_algorithms import SVD\n",
    "from surprise.prediction_algorithms import KNNWithMeans, KNNBasic, KNNBaseline\n",
    "from surprise.model_selection import GridSearchCV\n",
    "from sklearn.feature_extraction.text import TfidfVectorizer\n",
    "import joblib\n",
    "from sklearn.metrics.pairwise import cosine_similarity\n",
    "from sklearn.metrics.pairwise import linear_kernel\n",
    "from surprise import NMF\n",
    "from surprise.model_selection import cross_validate\n",
    "import matplotlib.pyplot as plt\n",
    "np.random.seed(42)"
   ]
  },
  {
   "cell_type": "code",
   "execution_count": 216,
   "metadata": {},
   "outputs": [],
   "source": [
    "df = pd.read_csv('jd_structured_data.csv')"
   ]
  },
  {
   "cell_type": "code",
   "execution_count": 217,
   "metadata": {},
   "outputs": [
    {
     "data": {
      "text/plain": [
       "Index(['Job Title', 'Rating', 'Company Name', 'Location', 'Headquarters',\n",
       "       'Size', 'Founded', 'Type of ownership', 'Industry', 'Sector',\n",
       "       'Competitors', 'Average Salary', 'Average Revenue', 'Processed_JD'],\n",
       "      dtype='object')"
      ]
     },
     "execution_count": 217,
     "metadata": {},
     "output_type": "execute_result"
    }
   ],
   "source": [
    "df.columns"
   ]
  },
  {
   "cell_type": "code",
   "execution_count": 218,
   "metadata": {},
   "outputs": [
    {
     "data": {
      "text/plain": [
       "array(['Albuquerque, NM', 'Linthicum, MD', 'Clearwater, FL',\n",
       "       'Richland, WA', 'New York, NY', 'Dallas, TX', 'Baltimore, MD',\n",
       "       'San Jose, CA', 'Rochester, NY', 'Chantilly, VA', 'Plano, TX',\n",
       "       'Seattle, WA', 'Cambridge, MA', 'Newark, NJ', 'Mountain View, CA',\n",
       "       'San Francisco, CA', 'Denver, CO', 'Chicago, IL', 'Louisville, KY',\n",
       "       'Oregon', 'Herndon, VA', 'Hillsboro, OR', 'Worcester, MA',\n",
       "       'Groton, CT', 'Detroit, MI', 'Sunnyvale, CA', 'Ipswich, MA',\n",
       "       'Redlands, CA', 'Woburn, MA', 'Fremont, CA', 'Long Beach, NY',\n",
       "       'Marlborough, MA', 'Allendale, NJ', 'Chandler, AZ',\n",
       "       'Washington, DC', 'Bellevue, WA', 'Longmont, CO',\n",
       "       'Beavercreek, OH', 'Peoria, IL', 'Kingdom, IL',\n",
       "       'Fort Lauderdale, FL', 'Boston, MA', 'Huntsville, AL',\n",
       "       'Armonk, NY', 'San Diego, CA', 'Saint Louis, MO', 'Lincoln, RI',\n",
       "       'Cincinnati, OH', 'Palo Alto, CA', 'Coraopolis, PA',\n",
       "       'Framingham, MA', 'Atlanta, GA', 'New Jersey', 'Philadelphia, PA',\n",
       "       'Vancouver, WA', 'Indianapolis, IN', 'Lake Forest, IL',\n",
       "       'Maryland Heights, MO', 'Charlottesville, VA', 'Pittsburgh, PA',\n",
       "       'Harrisburg, PA', 'Laurel, MD', 'Arlington, VA', 'Tacoma, WA',\n",
       "       'Miami, FL', 'New Orleans, LA', 'Landover, MD',\n",
       "       'Patuxent River, MD', 'Suitland, MD', 'McLean, VA',\n",
       "       'Fort Belvoir, VA', 'Milwaukee, WI', 'Silver Spring, MD',\n",
       "       'South San Francisco, CA', 'Syracuse, NY', 'Gainesville, FL',\n",
       "       'Virginia', 'Houston, TX', 'Charlotte, NC', 'Southfield, MI',\n",
       "       'Matawan, NJ', 'Rochester, MN', 'Phoenix, AZ', 'Omaha, NE',\n",
       "       'Lyndhurst, NJ', 'Atlanta, IN', 'Rockville, MD', 'Minneapolis, MN',\n",
       "       'Santa Barbara, CA', 'Bethesda, MD', 'Los Angeles, CA',\n",
       "       'Alabaster, AL', 'Mount Olive, NJ',\n",
       "       'Santa Fe Springs, Los Angeles, CA', 'Kansas City, MO',\n",
       "       'Ashburn, VA', 'Fort Worth, TX', 'Valencia, CA', 'Novato, CA',\n",
       "       'Reston, VA', 'Aurora, CO', 'Waltham, MA', 'Tampa, FL',\n",
       "       'Camarillo, CA', 'Riverton, UT', 'Chattanooga, TN', 'Milpitas, CA',\n",
       "       'Ewing, NJ', 'Cupertino, CA', 'Alexandria, VA', 'Frederick, MD',\n",
       "       'Fort Lee, NJ', 'West Reading, PA', 'Madison, WI', 'Dearborn, MI',\n",
       "       'Winter Park, FL', 'San Rafael, CA', 'Hamilton, NJ',\n",
       "       'Woodbridge, NJ', 'Lewes, DE', 'Springfield, MO', 'Burbank, CA',\n",
       "       'Newton, MA', 'Salt Lake City, UT', 'Lafayette, LA',\n",
       "       'Annapolis Junction, MD', 'Carlsbad, CA', 'Highland, CA',\n",
       "       'Burleson, TX', 'Hoopeston, IL', 'Georgia Southern, GA',\n",
       "       'Scotts Valley, CA', 'Knoxville, TN', 'Millville, DE',\n",
       "       'Sheboygan, WI', 'San Mateo, CA', 'Dayton, OH', 'Parlier, CA',\n",
       "       'Meridian, ID', 'Cherry Hill, NJ', 'Columbia, MD', 'Anchorage, AK',\n",
       "       'Lincoln, NE', 'Nashville, TN', 'Portland, OR', 'Hoboken, NJ',\n",
       "       'Port Washington, NY', 'Austin, TX', 'Grand Rapids, MI',\n",
       "       'Creve Coeur, MO', 'United States', 'Providence, RI',\n",
       "       'Raleigh, NC', 'Phila, PA', 'Oakland, CA', 'Bloomington, MN',\n",
       "       'Boise, ID', 'Oak Ridge, TN', 'Agoura Hills, CA', 'Pella, IA',\n",
       "       'Burlington, MA', 'Woodinville, WA', 'San Ramon, CA',\n",
       "       'Red Bank, NJ', 'Pomona, CA', 'Columbia, SC', 'Springfield, MA',\n",
       "       'San Antonio, TX', 'Portsmouth, VA', 'West Palm Beach, FL',\n",
       "       'Newark, CA', 'Exton, PA', 'Owensboro, KY', 'Hartford, CT',\n",
       "       'Orange, CA', 'Tallahassee, FL', 'Lenexa, KS', 'Concord, CA',\n",
       "       'Vail, CO', 'Dulles, VA', 'Natick, MA', 'Winston-Salem, NC',\n",
       "       'Richfield, OH', 'Hampton, VA', 'Ithaca, NY', 'Marietta, GA',\n",
       "       'Quincy, MA', 'Green Bay, WI', 'Durham, NC', 'Clovis, CA',\n",
       "       'Orlando, FL', 'Columbia, MO', 'Fountain Valley, CA',\n",
       "       'Westlake, OH', 'Des Moines, IA', 'Bedford, MA',\n",
       "       'Cedar Rapids, IA', 'Blue Bell, PA', 'Springfield, VA',\n",
       "       'Jersey City, NJ', 'Emeryville, CA', 'Carle Place, NY',\n",
       "       'King of Prussia, PA', 'Santa Clara, CA', 'Piscataway, NJ',\n",
       "       'Brisbane, CA', 'Foster City, CA', 'Holyoke, MA', 'Juncos, PR',\n",
       "       'Corvallis, OR', 'Gaithersburg, MD', 'Aliso Viejo, CA',\n",
       "       'Dublin, CA', 'Bristol, TN', 'Arvada, CO', 'Franklin, TN',\n",
       "       'Plymouth Meeting, PA', 'Allentown, PA', 'Logan, UT',\n",
       "       'Birmingham, AL', 'Scottsdale, AZ', 'Bloomington, IL',\n",
       "       'Alameda, CA', 'Johns Creek, GA', 'Roanoke, VA', 'Maryland',\n",
       "       'Glen Burnie, MD', 'Watertown, MA', 'Cambridge, MD',\n",
       "       'Amsterdam, NY', 'Irvine, CA', 'Ann Arbor, MI', 'Sandy, UT',\n",
       "       'Olympia, WA', 'Richmond, VA', 'Tempe, AZ', 'Michigan'],\n",
       "      dtype=object)"
      ]
     },
     "execution_count": 218,
     "metadata": {},
     "output_type": "execute_result"
    }
   ],
   "source": [
    "df.Location.unique()"
   ]
  },
  {
   "cell_type": "code",
   "execution_count": 219,
   "metadata": {},
   "outputs": [
    {
     "data": {
      "text/plain": [
       "(956, 14)"
      ]
     },
     "execution_count": 219,
     "metadata": {},
     "output_type": "execute_result"
    }
   ],
   "source": [
    "df.shape"
   ]
  },
  {
   "cell_type": "code",
   "execution_count": 220,
   "metadata": {},
   "outputs": [
    {
     "data": {
      "text/html": [
       "<div>\n",
       "<style scoped>\n",
       "    .dataframe tbody tr th:only-of-type {\n",
       "        vertical-align: middle;\n",
       "    }\n",
       "\n",
       "    .dataframe tbody tr th {\n",
       "        vertical-align: top;\n",
       "    }\n",
       "\n",
       "    .dataframe thead th {\n",
       "        text-align: right;\n",
       "    }\n",
       "</style>\n",
       "<table border=\"1\" class=\"dataframe\">\n",
       "  <thead>\n",
       "    <tr style=\"text-align: right;\">\n",
       "      <th></th>\n",
       "      <th>Rating</th>\n",
       "      <th>Size</th>\n",
       "      <th>Founded</th>\n",
       "      <th>Average Salary</th>\n",
       "      <th>Average Revenue</th>\n",
       "    </tr>\n",
       "  </thead>\n",
       "  <tbody>\n",
       "    <tr>\n",
       "      <th>count</th>\n",
       "      <td>956.000000</td>\n",
       "      <td>956.000000</td>\n",
       "      <td>956.000000</td>\n",
       "      <td>956.000000</td>\n",
       "      <td>956.000000</td>\n",
       "    </tr>\n",
       "    <tr>\n",
       "      <th>mean</th>\n",
       "      <td>3.601255</td>\n",
       "      <td>3027.393199</td>\n",
       "      <td>1774.605649</td>\n",
       "      <td>103.153900</td>\n",
       "      <td>24319.000761</td>\n",
       "    </tr>\n",
       "    <tr>\n",
       "      <th>std</th>\n",
       "      <td>1.067619</td>\n",
       "      <td>3677.688565</td>\n",
       "      <td>598.942517</td>\n",
       "      <td>31.971932</td>\n",
       "      <td>60571.308570</td>\n",
       "    </tr>\n",
       "    <tr>\n",
       "      <th>min</th>\n",
       "      <td>-1.000000</td>\n",
       "      <td>-1.000000</td>\n",
       "      <td>-1.000000</td>\n",
       "      <td>15.500000</td>\n",
       "      <td>1.000000</td>\n",
       "    </tr>\n",
       "    <tr>\n",
       "      <th>25%</th>\n",
       "      <td>3.300000</td>\n",
       "      <td>350.500000</td>\n",
       "      <td>1937.000000</td>\n",
       "      <td>84.500000</td>\n",
       "      <td>17.500000</td>\n",
       "    </tr>\n",
       "    <tr>\n",
       "      <th>50%</th>\n",
       "      <td>3.800000</td>\n",
       "      <td>750.500000</td>\n",
       "      <td>1992.000000</td>\n",
       "      <td>103.153900</td>\n",
       "      <td>1500.000000</td>\n",
       "    </tr>\n",
       "    <tr>\n",
       "      <th>75%</th>\n",
       "      <td>4.200000</td>\n",
       "      <td>3027.393199</td>\n",
       "      <td>2008.000000</td>\n",
       "      <td>114.000000</td>\n",
       "      <td>24319.000761</td>\n",
       "    </tr>\n",
       "    <tr>\n",
       "      <th>max</th>\n",
       "      <td>5.000000</td>\n",
       "      <td>10000.000000</td>\n",
       "      <td>2019.000000</td>\n",
       "      <td>254.000000</td>\n",
       "      <td>250500.000000</td>\n",
       "    </tr>\n",
       "  </tbody>\n",
       "</table>\n",
       "</div>"
      ],
      "text/plain": [
       "           Rating          Size      Founded  Average Salary  Average Revenue\n",
       "count  956.000000    956.000000   956.000000      956.000000       956.000000\n",
       "mean     3.601255   3027.393199  1774.605649      103.153900     24319.000761\n",
       "std      1.067619   3677.688565   598.942517       31.971932     60571.308570\n",
       "min     -1.000000     -1.000000    -1.000000       15.500000         1.000000\n",
       "25%      3.300000    350.500000  1937.000000       84.500000        17.500000\n",
       "50%      3.800000    750.500000  1992.000000      103.153900      1500.000000\n",
       "75%      4.200000   3027.393199  2008.000000      114.000000     24319.000761\n",
       "max      5.000000  10000.000000  2019.000000      254.000000    250500.000000"
      ]
     },
     "execution_count": 220,
     "metadata": {},
     "output_type": "execute_result"
    }
   ],
   "source": [
    "df.describe()"
   ]
  },
  {
   "cell_type": "code",
   "execution_count": 221,
   "metadata": {},
   "outputs": [
    {
     "data": {
      "text/plain": [
       "Job Title             object\n",
       "Rating               float64\n",
       "Company Name          object\n",
       "Location              object\n",
       "Headquarters          object\n",
       "Size                 float64\n",
       "Founded                int64\n",
       "Type of ownership     object\n",
       "Industry              object\n",
       "Sector                object\n",
       "Competitors           object\n",
       "Average Salary       float64\n",
       "Average Revenue      float64\n",
       "Processed_JD          object\n",
       "dtype: object"
      ]
     },
     "execution_count": 221,
     "metadata": {},
     "output_type": "execute_result"
    }
   ],
   "source": [
    "df.dtypes"
   ]
  },
  {
   "cell_type": "code",
   "execution_count": 222,
   "metadata": {},
   "outputs": [
    {
     "data": {
      "text/html": [
       "<div>\n",
       "<style scoped>\n",
       "    .dataframe tbody tr th:only-of-type {\n",
       "        vertical-align: middle;\n",
       "    }\n",
       "\n",
       "    .dataframe tbody tr th {\n",
       "        vertical-align: top;\n",
       "    }\n",
       "\n",
       "    .dataframe thead th {\n",
       "        text-align: right;\n",
       "    }\n",
       "</style>\n",
       "<table border=\"1\" class=\"dataframe\">\n",
       "  <thead>\n",
       "    <tr style=\"text-align: right;\">\n",
       "      <th></th>\n",
       "      <th>Job Title</th>\n",
       "      <th>Rating</th>\n",
       "      <th>Company Name</th>\n",
       "      <th>Location</th>\n",
       "      <th>Headquarters</th>\n",
       "      <th>Size</th>\n",
       "      <th>Founded</th>\n",
       "      <th>Type of ownership</th>\n",
       "      <th>Industry</th>\n",
       "      <th>Sector</th>\n",
       "      <th>Competitors</th>\n",
       "      <th>Average Salary</th>\n",
       "      <th>Average Revenue</th>\n",
       "      <th>Processed_JD</th>\n",
       "    </tr>\n",
       "  </thead>\n",
       "  <tbody>\n",
       "    <tr>\n",
       "      <th>0</th>\n",
       "      <td>Data Scientist</td>\n",
       "      <td>3.8</td>\n",
       "      <td>Tecolote Research</td>\n",
       "      <td>Albuquerque, NM</td>\n",
       "      <td>Goleta, CA</td>\n",
       "      <td>750.5</td>\n",
       "      <td>1973</td>\n",
       "      <td>Company - Private</td>\n",
       "      <td>Aerospace &amp; Defense</td>\n",
       "      <td>Aerospace &amp; Defense</td>\n",
       "      <td>-1</td>\n",
       "      <td>72.0000</td>\n",
       "      <td>75.000000</td>\n",
       "      <td>Data Scientist Location: Albuquerque, Educatio...</td>\n",
       "    </tr>\n",
       "    <tr>\n",
       "      <th>1</th>\n",
       "      <td>Healthcare Data Scientist</td>\n",
       "      <td>3.4</td>\n",
       "      <td>University of Maryland Medical System</td>\n",
       "      <td>Linthicum, MD</td>\n",
       "      <td>Baltimore, MD</td>\n",
       "      <td>10000.0</td>\n",
       "      <td>1984</td>\n",
       "      <td>Other Organization</td>\n",
       "      <td>Health Care Services &amp; Hospitals</td>\n",
       "      <td>Health Care</td>\n",
       "      <td>-1</td>\n",
       "      <td>87.5000</td>\n",
       "      <td>3500.000000</td>\n",
       "      <td>What You Will Do: General Summary The Healthca...</td>\n",
       "    </tr>\n",
       "    <tr>\n",
       "      <th>2</th>\n",
       "      <td>Data Scientist</td>\n",
       "      <td>4.8</td>\n",
       "      <td>KnowBe4</td>\n",
       "      <td>Clearwater, FL</td>\n",
       "      <td>Clearwater, FL</td>\n",
       "      <td>750.5</td>\n",
       "      <td>2010</td>\n",
       "      <td>Company - Private</td>\n",
       "      <td>Security Services</td>\n",
       "      <td>Business Services</td>\n",
       "      <td>-1</td>\n",
       "      <td>85.0000</td>\n",
       "      <td>300.000000</td>\n",
       "      <td>KnowBe4, Inc. high growth information security...</td>\n",
       "    </tr>\n",
       "    <tr>\n",
       "      <th>3</th>\n",
       "      <td>Data Scientist</td>\n",
       "      <td>3.8</td>\n",
       "      <td>PNNL</td>\n",
       "      <td>Richland, WA</td>\n",
       "      <td>Richland, WA</td>\n",
       "      <td>3000.5</td>\n",
       "      <td>1965</td>\n",
       "      <td>Government</td>\n",
       "      <td>Energy</td>\n",
       "      <td>Oil, Gas, Energy &amp; Utilities</td>\n",
       "      <td>Oak Ridge National Laboratory, National Renewa...</td>\n",
       "      <td>76.5000</td>\n",
       "      <td>250500.000000</td>\n",
       "      <td>*Organization Job ID** Job ID: 310709 Director...</td>\n",
       "    </tr>\n",
       "    <tr>\n",
       "      <th>4</th>\n",
       "      <td>Data Scientist</td>\n",
       "      <td>2.9</td>\n",
       "      <td>Affinity Solutions</td>\n",
       "      <td>New York, NY</td>\n",
       "      <td>New York, NY</td>\n",
       "      <td>125.5</td>\n",
       "      <td>1998</td>\n",
       "      <td>Company - Private</td>\n",
       "      <td>Advertising &amp; Marketing</td>\n",
       "      <td>Business Services</td>\n",
       "      <td>Commerce Signals, Cardlytics, Yodlee</td>\n",
       "      <td>114.5000</td>\n",
       "      <td>24319.000761</td>\n",
       "      <td>Data Scientist Affinity Solutions Marketing Cl...</td>\n",
       "    </tr>\n",
       "    <tr>\n",
       "      <th>...</th>\n",
       "      <td>...</td>\n",
       "      <td>...</td>\n",
       "      <td>...</td>\n",
       "      <td>...</td>\n",
       "      <td>...</td>\n",
       "      <td>...</td>\n",
       "      <td>...</td>\n",
       "      <td>...</td>\n",
       "      <td>...</td>\n",
       "      <td>...</td>\n",
       "      <td>...</td>\n",
       "      <td>...</td>\n",
       "      <td>...</td>\n",
       "      <td>...</td>\n",
       "    </tr>\n",
       "    <tr>\n",
       "      <th>951</th>\n",
       "      <td>Senior Data Engineer</td>\n",
       "      <td>4.4</td>\n",
       "      <td>Eventbrite</td>\n",
       "      <td>Nashville, TN</td>\n",
       "      <td>San Francisco, CA</td>\n",
       "      <td>3000.5</td>\n",
       "      <td>2006</td>\n",
       "      <td>Company - Public</td>\n",
       "      <td>Internet</td>\n",
       "      <td>Information Technology</td>\n",
       "      <td>See Tickets, TicketWeb, Vendini</td>\n",
       "      <td>102.5000</td>\n",
       "      <td>300.000000</td>\n",
       "      <td>THE CHALLENGE Eventbrite world-class data repo...</td>\n",
       "    </tr>\n",
       "    <tr>\n",
       "      <th>952</th>\n",
       "      <td>Project Scientist - Auton Lab, Robotics Institute</td>\n",
       "      <td>2.6</td>\n",
       "      <td>Software Engineering Institute</td>\n",
       "      <td>Pittsburgh, PA</td>\n",
       "      <td>Pittsburgh, PA</td>\n",
       "      <td>750.5</td>\n",
       "      <td>1984</td>\n",
       "      <td>College / University</td>\n",
       "      <td>Colleges &amp; Universities</td>\n",
       "      <td>Education</td>\n",
       "      <td>-1</td>\n",
       "      <td>73.5000</td>\n",
       "      <td>24319.000761</td>\n",
       "      <td>The Auton Lab Carnegie Mellon University large...</td>\n",
       "    </tr>\n",
       "    <tr>\n",
       "      <th>953</th>\n",
       "      <td>Data Science Manager</td>\n",
       "      <td>3.2</td>\n",
       "      <td>Numeric, LLC</td>\n",
       "      <td>Allentown, PA</td>\n",
       "      <td>Chadds Ford, PA</td>\n",
       "      <td>25.5</td>\n",
       "      <td>-1</td>\n",
       "      <td>Company - Private</td>\n",
       "      <td>Staffing &amp; Outsourcing</td>\n",
       "      <td>Business Services</td>\n",
       "      <td>-1</td>\n",
       "      <td>127.5000</td>\n",
       "      <td>7.500000</td>\n",
       "      <td>Data Science ManagerResponsibilities: Oversee ...</td>\n",
       "    </tr>\n",
       "    <tr>\n",
       "      <th>954</th>\n",
       "      <td>Data Engineer</td>\n",
       "      <td>4.8</td>\n",
       "      <td>IGNW</td>\n",
       "      <td>Austin, TX</td>\n",
       "      <td>Portland, OR</td>\n",
       "      <td>350.5</td>\n",
       "      <td>2015</td>\n",
       "      <td>Company - Private</td>\n",
       "      <td>IT Services</td>\n",
       "      <td>Information Technology</td>\n",
       "      <td>Slalom</td>\n",
       "      <td>103.1539</td>\n",
       "      <td>37.500000</td>\n",
       "      <td>Loading... Title: Data Engineer Location: Aust...</td>\n",
       "    </tr>\n",
       "    <tr>\n",
       "      <th>955</th>\n",
       "      <td>Research Scientist – Security and Privacy</td>\n",
       "      <td>3.6</td>\n",
       "      <td>Riverside Research Institute</td>\n",
       "      <td>Beavercreek, OH</td>\n",
       "      <td>Arlington, VA</td>\n",
       "      <td>750.5</td>\n",
       "      <td>1967</td>\n",
       "      <td>Nonprofit Organization</td>\n",
       "      <td>Federal Agencies</td>\n",
       "      <td>Government</td>\n",
       "      <td>-1</td>\n",
       "      <td>93.5000</td>\n",
       "      <td>75.000000</td>\n",
       "      <td>Returning Candidate? Log back Career Portal cl...</td>\n",
       "    </tr>\n",
       "  </tbody>\n",
       "</table>\n",
       "<p>956 rows × 14 columns</p>\n",
       "</div>"
      ],
      "text/plain": [
       "                                             Job Title  Rating  \\\n",
       "0                                       Data Scientist     3.8   \n",
       "1                            Healthcare Data Scientist     3.4   \n",
       "2                                       Data Scientist     4.8   \n",
       "3                                       Data Scientist     3.8   \n",
       "4                                       Data Scientist     2.9   \n",
       "..                                                 ...     ...   \n",
       "951                               Senior Data Engineer     4.4   \n",
       "952  Project Scientist - Auton Lab, Robotics Institute     2.6   \n",
       "953                               Data Science Manager     3.2   \n",
       "954                                      Data Engineer     4.8   \n",
       "955          Research Scientist – Security and Privacy     3.6   \n",
       "\n",
       "                              Company Name         Location  \\\n",
       "0                        Tecolote Research  Albuquerque, NM   \n",
       "1    University of Maryland Medical System    Linthicum, MD   \n",
       "2                                  KnowBe4   Clearwater, FL   \n",
       "3                                     PNNL     Richland, WA   \n",
       "4                       Affinity Solutions     New York, NY   \n",
       "..                                     ...              ...   \n",
       "951                             Eventbrite    Nashville, TN   \n",
       "952         Software Engineering Institute   Pittsburgh, PA   \n",
       "953                           Numeric, LLC    Allentown, PA   \n",
       "954                                   IGNW       Austin, TX   \n",
       "955           Riverside Research Institute  Beavercreek, OH   \n",
       "\n",
       "          Headquarters     Size  Founded       Type of ownership  \\\n",
       "0           Goleta, CA    750.5     1973       Company - Private   \n",
       "1        Baltimore, MD  10000.0     1984      Other Organization   \n",
       "2       Clearwater, FL    750.5     2010       Company - Private   \n",
       "3         Richland, WA   3000.5     1965              Government   \n",
       "4         New York, NY    125.5     1998       Company - Private   \n",
       "..                 ...      ...      ...                     ...   \n",
       "951  San Francisco, CA   3000.5     2006        Company - Public   \n",
       "952     Pittsburgh, PA    750.5     1984    College / University   \n",
       "953    Chadds Ford, PA     25.5       -1       Company - Private   \n",
       "954       Portland, OR    350.5     2015       Company - Private   \n",
       "955      Arlington, VA    750.5     1967  Nonprofit Organization   \n",
       "\n",
       "                             Industry                        Sector  \\\n",
       "0                 Aerospace & Defense           Aerospace & Defense   \n",
       "1    Health Care Services & Hospitals                   Health Care   \n",
       "2                   Security Services             Business Services   \n",
       "3                              Energy  Oil, Gas, Energy & Utilities   \n",
       "4             Advertising & Marketing             Business Services   \n",
       "..                                ...                           ...   \n",
       "951                          Internet        Information Technology   \n",
       "952           Colleges & Universities                     Education   \n",
       "953            Staffing & Outsourcing             Business Services   \n",
       "954                       IT Services        Information Technology   \n",
       "955                  Federal Agencies                    Government   \n",
       "\n",
       "                                           Competitors  Average Salary  \\\n",
       "0                                                   -1         72.0000   \n",
       "1                                                   -1         87.5000   \n",
       "2                                                   -1         85.0000   \n",
       "3    Oak Ridge National Laboratory, National Renewa...         76.5000   \n",
       "4                 Commerce Signals, Cardlytics, Yodlee        114.5000   \n",
       "..                                                 ...             ...   \n",
       "951                    See Tickets, TicketWeb, Vendini        102.5000   \n",
       "952                                                 -1         73.5000   \n",
       "953                                                 -1        127.5000   \n",
       "954                                             Slalom        103.1539   \n",
       "955                                                 -1         93.5000   \n",
       "\n",
       "     Average Revenue                                       Processed_JD  \n",
       "0          75.000000  Data Scientist Location: Albuquerque, Educatio...  \n",
       "1        3500.000000  What You Will Do: General Summary The Healthca...  \n",
       "2         300.000000  KnowBe4, Inc. high growth information security...  \n",
       "3      250500.000000  *Organization Job ID** Job ID: 310709 Director...  \n",
       "4       24319.000761  Data Scientist Affinity Solutions Marketing Cl...  \n",
       "..               ...                                                ...  \n",
       "951       300.000000  THE CHALLENGE Eventbrite world-class data repo...  \n",
       "952     24319.000761  The Auton Lab Carnegie Mellon University large...  \n",
       "953         7.500000  Data Science ManagerResponsibilities: Oversee ...  \n",
       "954        37.500000  Loading... Title: Data Engineer Location: Aust...  \n",
       "955        75.000000  Returning Candidate? Log back Career Portal cl...  \n",
       "\n",
       "[956 rows x 14 columns]"
      ]
     },
     "execution_count": 222,
     "metadata": {},
     "output_type": "execute_result"
    }
   ],
   "source": [
    "df"
   ]
  },
  {
   "cell_type": "code",
   "execution_count": 223,
   "metadata": {},
   "outputs": [
    {
     "name": "stdout",
     "output_type": "stream",
     "text": [
      "Job Title            0.0\n",
      "Rating               0.0\n",
      "Company Name         0.0\n",
      "Location             0.0\n",
      "Headquarters         0.0\n",
      "Size                 0.0\n",
      "Founded              0.0\n",
      "Type of ownership    0.0\n",
      "Industry             0.0\n",
      "Sector               0.0\n",
      "Competitors          0.0\n",
      "Average Salary       0.0\n",
      "Average Revenue      0.0\n",
      "Processed_JD         0.0\n",
      "dtype: float64\n"
     ]
    }
   ],
   "source": [
    "missing_percentage = df.isnull().mean() * 100\n",
    "print(missing_percentage)"
   ]
  },
  {
   "cell_type": "markdown",
   "metadata": {},
   "source": [
    "## Data Cleaning"
   ]
  },
  {
   "cell_type": "code",
   "execution_count": 224,
   "metadata": {},
   "outputs": [],
   "source": [
    "df = df.drop('Competitors', axis=1)"
   ]
  },
  {
   "cell_type": "code",
   "execution_count": 225,
   "metadata": {},
   "outputs": [
    {
     "name": "stdout",
     "output_type": "stream",
     "text": [
      "Job Title            0.0\n",
      "Rating               0.0\n",
      "Company Name         0.0\n",
      "Location             0.0\n",
      "Headquarters         0.0\n",
      "Size                 0.0\n",
      "Founded              0.0\n",
      "Type of ownership    0.0\n",
      "Industry             0.0\n",
      "Sector               0.0\n",
      "Average Salary       0.0\n",
      "Average Revenue      0.0\n",
      "Processed_JD         0.0\n",
      "dtype: float64\n"
     ]
    }
   ],
   "source": [
    "missing_percentage = df.isnull().mean() * 100\n",
    "print(missing_percentage)"
   ]
  },
  {
   "cell_type": "code",
   "execution_count": 226,
   "metadata": {},
   "outputs": [],
   "source": [
    "df['Size'] = pd.to_numeric(df['Size'], errors='coerce')\n",
    "df['Average Salary'] = pd.to_numeric(df['Average Salary'], errors='coerce')\n",
    "df['Average Revenue'] = pd.to_numeric(df['Average Revenue'], errors='coerce')"
   ]
  },
  {
   "cell_type": "code",
   "execution_count": 227,
   "metadata": {},
   "outputs": [],
   "source": [
    "q1 = df['Average Salary'].quantile(0.25)\n",
    "q3 = df['Average Salary'].quantile(0.75)\n",
    "iqr = q3 - q1"
   ]
  },
  {
   "cell_type": "code",
   "execution_count": 228,
   "metadata": {},
   "outputs": [],
   "source": [
    "lower_bound = q1 - 1.5 * iqr\n",
    "upper_bound = q3 + 1.5 * iqr\n",
    "df = df[(df['Average Salary'] >= lower_bound) & (df['Average Salary'] <= upper_bound)]"
   ]
  },
  {
   "cell_type": "code",
   "execution_count": 229,
   "metadata": {},
   "outputs": [],
   "source": [
    "text_columns = ['Job Title', 'Company Name', 'Location', 'Headquarters', 'Type of ownership', 'Industry', 'Sector', 'Processed_JD']\n",
    "for col in text_columns:\n",
    "    df[col] = df[col].str.strip().str.lower()"
   ]
  },
  {
   "cell_type": "code",
   "execution_count": 230,
   "metadata": {},
   "outputs": [
    {
     "name": "stdout",
     "output_type": "stream",
     "text": [
      "                                             Job Title  Rating  \\\n",
      "30                                      data scientist     4.8   \n",
      "31                                      data scientist     3.8   \n",
      "62                                      data scientist     4.1   \n",
      "63                                      data scientist     3.4   \n",
      "94                   staff data scientist - technology     3.2   \n",
      "..                                                 ...     ...   \n",
      "951                               senior data engineer     4.4   \n",
      "952  project scientist - auton lab, robotics institute     2.6   \n",
      "953                               data science manager     3.2   \n",
      "954                                      data engineer     4.8   \n",
      "955          research scientist – security and privacy     3.6   \n",
      "\n",
      "                       Company Name         Location       Headquarters  \\\n",
      "30                          knowbe4   clearwater, fl     clearwater, fl   \n",
      "31                             pnnl     richland, wa       richland, wa   \n",
      "62               clearone advantage    baltimore, md      baltimore, md   \n",
      "63                         cyrusone       dallas, tx         dallas, tx   \n",
      "94                          walmart        plano, tx    bentonville, ar   \n",
      "..                              ...              ...                ...   \n",
      "951                      eventbrite    nashville, tn  san francisco, ca   \n",
      "952  software engineering institute   pittsburgh, pa     pittsburgh, pa   \n",
      "953                    numeric, llc    allentown, pa    chadds ford, pa   \n",
      "954                            ignw       austin, tx       portland, or   \n",
      "955    riverside research institute  beavercreek, oh      arlington, va   \n",
      "\n",
      "        Size  Founded       Type of ownership  \\\n",
      "30     750.5     2010       company - private   \n",
      "31    3000.5     1965              government   \n",
      "62     750.5     2008       company - private   \n",
      "63     350.5     2000        company - public   \n",
      "94   10000.0     1962        company - public   \n",
      "..       ...      ...                     ...   \n",
      "951   3000.5     2006        company - public   \n",
      "952    750.5     1984    college / university   \n",
      "953     25.5       -1       company - private   \n",
      "954    350.5     2015       company - private   \n",
      "955    750.5     1967  nonprofit organization   \n",
      "\n",
      "                                Industry                        Sector  \\\n",
      "30                     security services             business services   \n",
      "31                                energy  oil, gas, energy & utilities   \n",
      "62                 banks & credit unions                       finance   \n",
      "63                           real estate                   real estate   \n",
      "94   department, clothing, & shoe stores                        retail   \n",
      "..                                   ...                           ...   \n",
      "951                             internet        information technology   \n",
      "952              colleges & universities                     education   \n",
      "953               staffing & outsourcing             business services   \n",
      "954                          it services        information technology   \n",
      "955                     federal agencies                    government   \n",
      "\n",
      "     Average Salary  Average Revenue  \\\n",
      "30          85.0000       300.000000   \n",
      "31          76.5000    250500.000000   \n",
      "62          73.5000     24319.000761   \n",
      "63          95.0000      1500.000000   \n",
      "94         139.0000        10.000000   \n",
      "..              ...              ...   \n",
      "951        102.5000       300.000000   \n",
      "952         73.5000     24319.000761   \n",
      "953        127.5000         7.500000   \n",
      "954        103.1539        37.500000   \n",
      "955         93.5000        75.000000   \n",
      "\n",
      "                                          Processed_JD  \n",
      "30   knowbe4, inc. high growth information security...  \n",
      "31   *organization job id** job id: 310709 director...  \n",
      "62   job description **please local candidates appl...  \n",
      "63   cyrusone seeking talented data scientist holds...  \n",
      "94   position summary... drives execution multiple ...  \n",
      "..                                                 ...  \n",
      "951  the challenge eventbrite world-class data repo...  \n",
      "952  the auton lab carnegie mellon university large...  \n",
      "953  data science managerresponsibilities: oversee ...  \n",
      "954  loading... title: data engineer location: aust...  \n",
      "955  returning candidate? log back career portal cl...  \n",
      "\n",
      "[334 rows x 13 columns]\n"
     ]
    }
   ],
   "source": [
    "duplicates = df[df.duplicated()]\n",
    "print(duplicates)"
   ]
  },
  {
   "cell_type": "code",
   "execution_count": 231,
   "metadata": {},
   "outputs": [
    {
     "data": {
      "text/html": [
       "<div>\n",
       "<style scoped>\n",
       "    .dataframe tbody tr th:only-of-type {\n",
       "        vertical-align: middle;\n",
       "    }\n",
       "\n",
       "    .dataframe tbody tr th {\n",
       "        vertical-align: top;\n",
       "    }\n",
       "\n",
       "    .dataframe thead th {\n",
       "        text-align: right;\n",
       "    }\n",
       "</style>\n",
       "<table border=\"1\" class=\"dataframe\">\n",
       "  <thead>\n",
       "    <tr style=\"text-align: right;\">\n",
       "      <th></th>\n",
       "      <th>Job Title</th>\n",
       "      <th>Rating</th>\n",
       "      <th>Company Name</th>\n",
       "      <th>Location</th>\n",
       "      <th>Headquarters</th>\n",
       "      <th>Size</th>\n",
       "      <th>Founded</th>\n",
       "      <th>Type of ownership</th>\n",
       "      <th>Industry</th>\n",
       "      <th>Sector</th>\n",
       "      <th>Average Salary</th>\n",
       "      <th>Average Revenue</th>\n",
       "      <th>Processed_JD</th>\n",
       "    </tr>\n",
       "  </thead>\n",
       "  <tbody>\n",
       "    <tr>\n",
       "      <th>0</th>\n",
       "      <td>data scientist</td>\n",
       "      <td>3.8</td>\n",
       "      <td>tecolote research</td>\n",
       "      <td>albuquerque, nm</td>\n",
       "      <td>goleta, ca</td>\n",
       "      <td>750.5</td>\n",
       "      <td>1973</td>\n",
       "      <td>company - private</td>\n",
       "      <td>aerospace &amp; defense</td>\n",
       "      <td>aerospace &amp; defense</td>\n",
       "      <td>72.0000</td>\n",
       "      <td>75.000000</td>\n",
       "      <td>data scientist location: albuquerque, educatio...</td>\n",
       "    </tr>\n",
       "    <tr>\n",
       "      <th>1</th>\n",
       "      <td>healthcare data scientist</td>\n",
       "      <td>3.4</td>\n",
       "      <td>university of maryland medical system</td>\n",
       "      <td>linthicum, md</td>\n",
       "      <td>baltimore, md</td>\n",
       "      <td>10000.0</td>\n",
       "      <td>1984</td>\n",
       "      <td>other organization</td>\n",
       "      <td>health care services &amp; hospitals</td>\n",
       "      <td>health care</td>\n",
       "      <td>87.5000</td>\n",
       "      <td>3500.000000</td>\n",
       "      <td>what you will do: general summary the healthca...</td>\n",
       "    </tr>\n",
       "    <tr>\n",
       "      <th>2</th>\n",
       "      <td>data scientist</td>\n",
       "      <td>4.8</td>\n",
       "      <td>knowbe4</td>\n",
       "      <td>clearwater, fl</td>\n",
       "      <td>clearwater, fl</td>\n",
       "      <td>750.5</td>\n",
       "      <td>2010</td>\n",
       "      <td>company - private</td>\n",
       "      <td>security services</td>\n",
       "      <td>business services</td>\n",
       "      <td>85.0000</td>\n",
       "      <td>300.000000</td>\n",
       "      <td>knowbe4, inc. high growth information security...</td>\n",
       "    </tr>\n",
       "    <tr>\n",
       "      <th>3</th>\n",
       "      <td>data scientist</td>\n",
       "      <td>3.8</td>\n",
       "      <td>pnnl</td>\n",
       "      <td>richland, wa</td>\n",
       "      <td>richland, wa</td>\n",
       "      <td>3000.5</td>\n",
       "      <td>1965</td>\n",
       "      <td>government</td>\n",
       "      <td>energy</td>\n",
       "      <td>oil, gas, energy &amp; utilities</td>\n",
       "      <td>76.5000</td>\n",
       "      <td>250500.000000</td>\n",
       "      <td>*organization job id** job id: 310709 director...</td>\n",
       "    </tr>\n",
       "    <tr>\n",
       "      <th>4</th>\n",
       "      <td>data scientist</td>\n",
       "      <td>2.9</td>\n",
       "      <td>affinity solutions</td>\n",
       "      <td>new york, new york</td>\n",
       "      <td>new york, ny</td>\n",
       "      <td>125.5</td>\n",
       "      <td>1998</td>\n",
       "      <td>company - private</td>\n",
       "      <td>advertising &amp; marketing</td>\n",
       "      <td>business services</td>\n",
       "      <td>114.5000</td>\n",
       "      <td>24319.000761</td>\n",
       "      <td>data scientist affinity solutions marketing cl...</td>\n",
       "    </tr>\n",
       "    <tr>\n",
       "      <th>...</th>\n",
       "      <td>...</td>\n",
       "      <td>...</td>\n",
       "      <td>...</td>\n",
       "      <td>...</td>\n",
       "      <td>...</td>\n",
       "      <td>...</td>\n",
       "      <td>...</td>\n",
       "      <td>...</td>\n",
       "      <td>...</td>\n",
       "      <td>...</td>\n",
       "      <td>...</td>\n",
       "      <td>...</td>\n",
       "      <td>...</td>\n",
       "    </tr>\n",
       "    <tr>\n",
       "      <th>951</th>\n",
       "      <td>senior data engineer</td>\n",
       "      <td>4.4</td>\n",
       "      <td>eventbrite</td>\n",
       "      <td>nashville, tn</td>\n",
       "      <td>san francisco, ca</td>\n",
       "      <td>3000.5</td>\n",
       "      <td>2006</td>\n",
       "      <td>company - public</td>\n",
       "      <td>internet</td>\n",
       "      <td>information technology</td>\n",
       "      <td>102.5000</td>\n",
       "      <td>300.000000</td>\n",
       "      <td>the challenge eventbrite world-class data repo...</td>\n",
       "    </tr>\n",
       "    <tr>\n",
       "      <th>952</th>\n",
       "      <td>project scientist - auton lab, robotics institute</td>\n",
       "      <td>2.6</td>\n",
       "      <td>software engineering institute</td>\n",
       "      <td>pittsburgh, pa</td>\n",
       "      <td>pittsburgh, pa</td>\n",
       "      <td>750.5</td>\n",
       "      <td>1984</td>\n",
       "      <td>college / university</td>\n",
       "      <td>colleges &amp; universities</td>\n",
       "      <td>education</td>\n",
       "      <td>73.5000</td>\n",
       "      <td>24319.000761</td>\n",
       "      <td>the auton lab carnegie mellon university large...</td>\n",
       "    </tr>\n",
       "    <tr>\n",
       "      <th>953</th>\n",
       "      <td>data science manager</td>\n",
       "      <td>3.2</td>\n",
       "      <td>numeric, llc</td>\n",
       "      <td>allentown, pa</td>\n",
       "      <td>chadds ford, pa</td>\n",
       "      <td>25.5</td>\n",
       "      <td>-1</td>\n",
       "      <td>company - private</td>\n",
       "      <td>staffing &amp; outsourcing</td>\n",
       "      <td>business services</td>\n",
       "      <td>127.5000</td>\n",
       "      <td>7.500000</td>\n",
       "      <td>data science managerresponsibilities: oversee ...</td>\n",
       "    </tr>\n",
       "    <tr>\n",
       "      <th>954</th>\n",
       "      <td>data engineer</td>\n",
       "      <td>4.8</td>\n",
       "      <td>ignw</td>\n",
       "      <td>austin, tx</td>\n",
       "      <td>portland, or</td>\n",
       "      <td>350.5</td>\n",
       "      <td>2015</td>\n",
       "      <td>company - private</td>\n",
       "      <td>it services</td>\n",
       "      <td>information technology</td>\n",
       "      <td>103.1539</td>\n",
       "      <td>37.500000</td>\n",
       "      <td>loading... title: data engineer location: aust...</td>\n",
       "    </tr>\n",
       "    <tr>\n",
       "      <th>955</th>\n",
       "      <td>research scientist – security and privacy</td>\n",
       "      <td>3.6</td>\n",
       "      <td>riverside research institute</td>\n",
       "      <td>beavercreek, oh</td>\n",
       "      <td>arlington, va</td>\n",
       "      <td>750.5</td>\n",
       "      <td>1967</td>\n",
       "      <td>nonprofit organization</td>\n",
       "      <td>federal agencies</td>\n",
       "      <td>government</td>\n",
       "      <td>93.5000</td>\n",
       "      <td>75.000000</td>\n",
       "      <td>returning candidate? log back career portal cl...</td>\n",
       "    </tr>\n",
       "  </tbody>\n",
       "</table>\n",
       "<p>895 rows × 13 columns</p>\n",
       "</div>"
      ],
      "text/plain": [
       "                                             Job Title  Rating  \\\n",
       "0                                       data scientist     3.8   \n",
       "1                            healthcare data scientist     3.4   \n",
       "2                                       data scientist     4.8   \n",
       "3                                       data scientist     3.8   \n",
       "4                                       data scientist     2.9   \n",
       "..                                                 ...     ...   \n",
       "951                               senior data engineer     4.4   \n",
       "952  project scientist - auton lab, robotics institute     2.6   \n",
       "953                               data science manager     3.2   \n",
       "954                                      data engineer     4.8   \n",
       "955          research scientist – security and privacy     3.6   \n",
       "\n",
       "                              Company Name            Location  \\\n",
       "0                        tecolote research     albuquerque, nm   \n",
       "1    university of maryland medical system       linthicum, md   \n",
       "2                                  knowbe4      clearwater, fl   \n",
       "3                                     pnnl        richland, wa   \n",
       "4                       affinity solutions  new york, new york   \n",
       "..                                     ...                 ...   \n",
       "951                             eventbrite       nashville, tn   \n",
       "952         software engineering institute      pittsburgh, pa   \n",
       "953                           numeric, llc       allentown, pa   \n",
       "954                                   ignw          austin, tx   \n",
       "955           riverside research institute     beavercreek, oh   \n",
       "\n",
       "          Headquarters     Size  Founded       Type of ownership  \\\n",
       "0           goleta, ca    750.5     1973       company - private   \n",
       "1        baltimore, md  10000.0     1984      other organization   \n",
       "2       clearwater, fl    750.5     2010       company - private   \n",
       "3         richland, wa   3000.5     1965              government   \n",
       "4         new york, ny    125.5     1998       company - private   \n",
       "..                 ...      ...      ...                     ...   \n",
       "951  san francisco, ca   3000.5     2006        company - public   \n",
       "952     pittsburgh, pa    750.5     1984    college / university   \n",
       "953    chadds ford, pa     25.5       -1       company - private   \n",
       "954       portland, or    350.5     2015       company - private   \n",
       "955      arlington, va    750.5     1967  nonprofit organization   \n",
       "\n",
       "                             Industry                        Sector  \\\n",
       "0                 aerospace & defense           aerospace & defense   \n",
       "1    health care services & hospitals                   health care   \n",
       "2                   security services             business services   \n",
       "3                              energy  oil, gas, energy & utilities   \n",
       "4             advertising & marketing             business services   \n",
       "..                                ...                           ...   \n",
       "951                          internet        information technology   \n",
       "952           colleges & universities                     education   \n",
       "953            staffing & outsourcing             business services   \n",
       "954                       it services        information technology   \n",
       "955                  federal agencies                    government   \n",
       "\n",
       "     Average Salary  Average Revenue  \\\n",
       "0           72.0000        75.000000   \n",
       "1           87.5000      3500.000000   \n",
       "2           85.0000       300.000000   \n",
       "3           76.5000    250500.000000   \n",
       "4          114.5000     24319.000761   \n",
       "..              ...              ...   \n",
       "951        102.5000       300.000000   \n",
       "952         73.5000     24319.000761   \n",
       "953        127.5000         7.500000   \n",
       "954        103.1539        37.500000   \n",
       "955         93.5000        75.000000   \n",
       "\n",
       "                                          Processed_JD  \n",
       "0    data scientist location: albuquerque, educatio...  \n",
       "1    what you will do: general summary the healthca...  \n",
       "2    knowbe4, inc. high growth information security...  \n",
       "3    *organization job id** job id: 310709 director...  \n",
       "4    data scientist affinity solutions marketing cl...  \n",
       "..                                                 ...  \n",
       "951  the challenge eventbrite world-class data repo...  \n",
       "952  the auton lab carnegie mellon university large...  \n",
       "953  data science managerresponsibilities: oversee ...  \n",
       "954  loading... title: data engineer location: aust...  \n",
       "955  returning candidate? log back career portal cl...  \n",
       "\n",
       "[895 rows x 13 columns]"
      ]
     },
     "execution_count": 231,
     "metadata": {},
     "output_type": "execute_result"
    }
   ],
   "source": [
    "df['Location'] = df['Location'].str.replace('new york, ny', 'new york, new york')\n",
    "df"
   ]
  },
  {
   "cell_type": "markdown",
   "metadata": {},
   "source": [
    "### Data Engineering(NLP)"
   ]
  },
  {
   "cell_type": "code",
   "execution_count": 232,
   "metadata": {},
   "outputs": [
    {
     "data": {
      "text/html": [
       "<div>\n",
       "<style scoped>\n",
       "    .dataframe tbody tr th:only-of-type {\n",
       "        vertical-align: middle;\n",
       "    }\n",
       "\n",
       "    .dataframe tbody tr th {\n",
       "        vertical-align: top;\n",
       "    }\n",
       "\n",
       "    .dataframe thead th {\n",
       "        text-align: right;\n",
       "    }\n",
       "</style>\n",
       "<table border=\"1\" class=\"dataframe\">\n",
       "  <thead>\n",
       "    <tr style=\"text-align: right;\">\n",
       "      <th></th>\n",
       "      <th>Processed_JD</th>\n",
       "      <th>Location</th>\n",
       "      <th>Industry</th>\n",
       "      <th>Sector</th>\n",
       "    </tr>\n",
       "  </thead>\n",
       "  <tbody>\n",
       "    <tr>\n",
       "      <th>0</th>\n",
       "      <td>data scientist location: albuquerque, educatio...</td>\n",
       "      <td>albuquerque, nm</td>\n",
       "      <td>aerospace &amp; defense</td>\n",
       "      <td>aerospace &amp; defense</td>\n",
       "    </tr>\n",
       "    <tr>\n",
       "      <th>1</th>\n",
       "      <td>do: general summary healthcare data scientist ...</td>\n",
       "      <td>linthicum, md</td>\n",
       "      <td>health care services &amp; hospitals</td>\n",
       "      <td>health care</td>\n",
       "    </tr>\n",
       "    <tr>\n",
       "      <th>2</th>\n",
       "      <td>knowbe4, inc. high growth information security...</td>\n",
       "      <td>clearwater, fl</td>\n",
       "      <td>security services</td>\n",
       "      <td>business services</td>\n",
       "    </tr>\n",
       "    <tr>\n",
       "      <th>3</th>\n",
       "      <td>*organization job id** job id: 310709 director...</td>\n",
       "      <td>richland, wa</td>\n",
       "      <td>energy</td>\n",
       "      <td>oil, gas, energy &amp; utilities</td>\n",
       "    </tr>\n",
       "    <tr>\n",
       "      <th>4</th>\n",
       "      <td>data scientist affinity solutions marketing cl...</td>\n",
       "      <td>new york, new york</td>\n",
       "      <td>advertising &amp; marketing</td>\n",
       "      <td>business services</td>\n",
       "    </tr>\n",
       "  </tbody>\n",
       "</table>\n",
       "</div>"
      ],
      "text/plain": [
       "                                        Processed_JD            Location  \\\n",
       "0  data scientist location: albuquerque, educatio...     albuquerque, nm   \n",
       "1  do: general summary healthcare data scientist ...       linthicum, md   \n",
       "2  knowbe4, inc. high growth information security...      clearwater, fl   \n",
       "3  *organization job id** job id: 310709 director...        richland, wa   \n",
       "4  data scientist affinity solutions marketing cl...  new york, new york   \n",
       "\n",
       "                           Industry                        Sector  \n",
       "0               aerospace & defense           aerospace & defense  \n",
       "1  health care services & hospitals                   health care  \n",
       "2                 security services             business services  \n",
       "3                            energy  oil, gas, energy & utilities  \n",
       "4           advertising & marketing             business services  "
      ]
     },
     "execution_count": 232,
     "metadata": {},
     "output_type": "execute_result"
    }
   ],
   "source": [
    "stop_words = set(stopwords.words('english'))\n",
    "\n",
    "def remove_stopwords(text):\n",
    "    if isinstance(text, str):  # Check if the input is a string\n",
    "        return ' '.join([word for word in text.split() if word.lower() not in stop_words])\n",
    "    else:\n",
    "        return text  # If it's not a string, return it as is (could be None or some other type)\n",
    "\n",
    "# Apply the function to the cleaned_text column\n",
    "df['Processed_JD'] = df['Processed_JD'].apply(remove_stopwords)\n",
    "df['Location'] = df['Location'].apply(remove_stopwords)\n",
    "df['Sector'] = df['Sector'].apply(remove_stopwords)\n",
    "df['Industry'] = df['Industry'].apply(remove_stopwords)\n",
    "df['Location'] = df['Location'].apply(remove_stopwords)\n",
    "\n",
    "# Display the first few rows to verify the changes\n",
    "df[['Processed_JD','Location','Industry', 'Sector']].head()"
   ]
  },
  {
   "cell_type": "code",
   "execution_count": 233,
   "metadata": {},
   "outputs": [
    {
     "data": {
      "text/html": [
       "<div>\n",
       "<style scoped>\n",
       "    .dataframe tbody tr th:only-of-type {\n",
       "        vertical-align: middle;\n",
       "    }\n",
       "\n",
       "    .dataframe tbody tr th {\n",
       "        vertical-align: top;\n",
       "    }\n",
       "\n",
       "    .dataframe thead th {\n",
       "        text-align: right;\n",
       "    }\n",
       "</style>\n",
       "<table border=\"1\" class=\"dataframe\">\n",
       "  <thead>\n",
       "    <tr style=\"text-align: right;\">\n",
       "      <th></th>\n",
       "      <th>JD_tokens</th>\n",
       "      <th>Industry_tokens</th>\n",
       "      <th>Sector_tokens</th>\n",
       "      <th>Location_tokens</th>\n",
       "    </tr>\n",
       "  </thead>\n",
       "  <tbody>\n",
       "    <tr>\n",
       "      <th>0</th>\n",
       "      <td>[data, scientist, location, :, albuquerque, ,,...</td>\n",
       "      <td>[aerospace, &amp;, defense]</td>\n",
       "      <td>[aerospace, &amp;, defense]</td>\n",
       "      <td>[albuquerque, ,, nm]</td>\n",
       "    </tr>\n",
       "    <tr>\n",
       "      <th>1</th>\n",
       "      <td>[do, :, general, summary, healthcare, data, sc...</td>\n",
       "      <td>[health, care, services, &amp;, hospitals]</td>\n",
       "      <td>[health, care]</td>\n",
       "      <td>[linthicum, ,, md]</td>\n",
       "    </tr>\n",
       "    <tr>\n",
       "      <th>2</th>\n",
       "      <td>[knowbe4, ,, inc., high, growth, information, ...</td>\n",
       "      <td>[security, services]</td>\n",
       "      <td>[business, services]</td>\n",
       "      <td>[clearwater, ,, fl]</td>\n",
       "    </tr>\n",
       "    <tr>\n",
       "      <th>3</th>\n",
       "      <td>[*, organization, job, id, *, *, job, id, :, 3...</td>\n",
       "      <td>[energy]</td>\n",
       "      <td>[oil, ,, gas, ,, energy, &amp;, utilities]</td>\n",
       "      <td>[richland, ,, wa]</td>\n",
       "    </tr>\n",
       "    <tr>\n",
       "      <th>4</th>\n",
       "      <td>[data, scientist, affinity, solutions, marketi...</td>\n",
       "      <td>[advertising, &amp;, marketing]</td>\n",
       "      <td>[business, services]</td>\n",
       "      <td>[new, york, ,, new, york]</td>\n",
       "    </tr>\n",
       "  </tbody>\n",
       "</table>\n",
       "</div>"
      ],
      "text/plain": [
       "                                           JD_tokens  \\\n",
       "0  [data, scientist, location, :, albuquerque, ,,...   \n",
       "1  [do, :, general, summary, healthcare, data, sc...   \n",
       "2  [knowbe4, ,, inc., high, growth, information, ...   \n",
       "3  [*, organization, job, id, *, *, job, id, :, 3...   \n",
       "4  [data, scientist, affinity, solutions, marketi...   \n",
       "\n",
       "                          Industry_tokens  \\\n",
       "0                 [aerospace, &, defense]   \n",
       "1  [health, care, services, &, hospitals]   \n",
       "2                    [security, services]   \n",
       "3                                [energy]   \n",
       "4             [advertising, &, marketing]   \n",
       "\n",
       "                            Sector_tokens            Location_tokens  \n",
       "0                 [aerospace, &, defense]       [albuquerque, ,, nm]  \n",
       "1                          [health, care]         [linthicum, ,, md]  \n",
       "2                    [business, services]        [clearwater, ,, fl]  \n",
       "3  [oil, ,, gas, ,, energy, &, utilities]          [richland, ,, wa]  \n",
       "4                    [business, services]  [new, york, ,, new, york]  "
      ]
     },
     "execution_count": 233,
     "metadata": {},
     "output_type": "execute_result"
    }
   ],
   "source": [
    "def tokenize_text(text):\n",
    "    if isinstance(text, str):  # Check if the input is a string\n",
    "        return word_tokenize(text)\n",
    "    else:\n",
    "        return []  # Return an empty list if the text is None or not a string\n",
    "\n",
    "# Apply the function to the cleaned_text column\n",
    "df['JD_tokens'] = df['Processed_JD'].apply(tokenize_text)\n",
    "df['Location_tokens'] = df['Location'].apply(tokenize_text)\n",
    "df['Industry_tokens'] = df['Industry'].apply(tokenize_text)\n",
    "df['Sector_tokens'] = df['Sector'].apply(tokenize_text)\n",
    "\n",
    "# Display the first few rows to verify the changes\n",
    "df[['JD_tokens','Industry_tokens','Sector_tokens','Location_tokens']].head()\n"
   ]
  },
  {
   "cell_type": "markdown",
   "metadata": {},
   "source": [
    "## EDA and Visualisations"
   ]
  },
  {
   "cell_type": "code",
   "execution_count": 234,
   "metadata": {},
   "outputs": [
    {
     "data": {
      "image/png": "[encoded data removed]",
      "text/plain": [
       "<Figure size 864x432 with 1 Axes>"
      ]
     },
     "metadata": {
      "needs_background": "light"
     },
     "output_type": "display_data"
    }
   ],
   "source": [
    "# Visualizing the missing data\n",
    "plt.figure(figsize=(12, 6))\n",
    "sns.heatmap(df.isnull(), cbar=False, cmap='viridis')\n",
    "plt.title('Missing Data Heatmap')\n",
    "plt.show()\n"
   ]
  },
  {
   "cell_type": "code",
   "execution_count": 235,
   "metadata": {},
   "outputs": [
    {
     "data": {
      "image/png": "[encoded data removed]",
      "text/plain": [
       "<Figure size 1008x576 with 1 Axes>"
      ]
     },
     "metadata": {
      "needs_background": "light"
     },
     "output_type": "display_data"
    }
   ],
   "source": [
    "# Plotting the distribution of job titles\n",
    "plt.figure(figsize=(14, 8))\n",
    "df['Job Title'].value_counts().head(20).plot(kind='bar')\n",
    "plt.title('Top 20 Job Titles')\n",
    "plt.xlabel('Job Title')\n",
    "plt.ylabel('Frequency')\n",
    "plt.xticks(rotation=45, ha='right')\n",
    "plt.show()"
   ]
  },
  {
   "cell_type": "code",
   "execution_count": 236,
   "metadata": {},
   "outputs": [
    {
     "data": {
      "image/png": "[encoded data removed]",
      "text/plain": [
       "<Figure size 864x432 with 1 Axes>"
      ]
     },
     "metadata": {
      "needs_background": "light"
     },
     "output_type": "display_data"
    }
   ],
   "source": [
    "# Top 10 Company Names\n",
    "plt.figure(figsize=(12, 6))\n",
    "df['Company Name'].value_counts().head(10).plot(kind='bar')\n",
    "plt.title('Top 10 Company Names')\n",
    "plt.xlabel('Company Name')\n",
    "plt.ylabel('Frequency')\n",
    "plt.show()"
   ]
  },
  {
   "cell_type": "code",
   "execution_count": 237,
   "metadata": {},
   "outputs": [
    {
     "data": {
      "image/png": "[encoded data removed]",
      "text/plain": [
       "<Figure size 1152x720 with 1 Axes>"
      ]
     },
     "metadata": {
      "needs_background": "light"
     },
     "output_type": "display_data"
    }
   ],
   "source": [
    "top_locations = df['Location'].value_counts().head(20).index\n",
    "filtered_df = df[df['Location'].isin(top_locations)]\n",
    "plt.figure(figsize=(16, 10))\n",
    "sns.boxplot(y='Location', x='Average Salary', data=filtered_df, order=filtered_df.groupby('Location')['Average Salary'].median().sort_values().index)\n",
    "plt.title('Salary Distribution by Top 20 Locations', fontsize=16)\n",
    "plt.xlabel('Average Salary', fontsize=14)\n",
    "plt.ylabel('Location', fontsize=14)\n",
    "plt.xticks(fontsize=12)\n",
    "plt.yticks(fontsize=12)\n",
    "plt.grid(True)\n",
    "plt.show()"
   ]
  },
  {
   "cell_type": "code",
   "execution_count": 238,
   "metadata": {},
   "outputs": [
    {
     "data": {
      "image/png": "[encoded data removed]",
      "text/plain": [
       "<Figure size 720x432 with 1 Axes>"
      ]
     },
     "metadata": {
      "needs_background": "light"
     },
     "output_type": "display_data"
    }
   ],
   "source": [
    "df['Rating'] = pd.to_numeric(df['Rating'], errors='coerce')\n",
    "df_filtered = df.dropna(subset=['Rating'])\n",
    "\n",
    "plt.figure(figsize=(10, 6))\n",
    "sns.scatterplot(x='Rating', y='Average Salary', data=df_filtered)\n",
    "plt.title('Company Rating vs. Average Salary')\n",
    "plt.xlabel('Company Rating')\n",
    "plt.ylabel('Average Salary')\n",
    "plt.grid(True)\n",
    "plt.show()\n"
   ]
  },
  {
   "cell_type": "code",
   "execution_count": 239,
   "metadata": {},
   "outputs": [
    {
     "data": {
      "image/png": "[encoded data removed]",
      "text/plain": [
       "<Figure size 720x432 with 2 Axes>"
      ]
     },
     "metadata": {
      "needs_background": "light"
     },
     "output_type": "display_data"
    }
   ],
   "source": [
    "numeric_df = df.select_dtypes(include=['float64', 'int64'])\n",
    "plt.figure(figsize=(10, 6))\n",
    "correlation_matrix = numeric_df.corr()\n",
    "sns.heatmap(correlation_matrix, annot=True, cmap='coolwarm')\n",
    "plt.title('Correlation Matrix')\n",
    "plt.show()\n"
   ]
  },
  {
   "cell_type": "markdown",
   "metadata": {},
   "source": [
    "## Encoding"
   ]
  },
  {
   "cell_type": "code",
   "execution_count": 240,
   "metadata": {},
   "outputs": [],
   "source": [
    "categorical_columns = ['Job Title', 'Industry','Sector','Company Name','Processed_JD','Type of ownership', 'Size']  # Add other columns if needed\n",
    "\n",
    "label_encoders = {}\n",
    "for column in categorical_columns:\n",
    "    le = LabelEncoder()\n",
    "    df[column] = le.fit_transform(df[column])\n",
    "    label_encoders[column] = le\n",
    "\n",
    "df_encoded = pd.get_dummies(df, columns=categorical_columns)"
   ]
  },
  {
   "cell_type": "code",
   "execution_count": 241,
   "metadata": {},
   "outputs": [],
   "source": [
    "reader = Reader(rating_scale=(0, 5))\n",
    "df = Dataset.load_from_df(df[['Size', 'Average Salary', 'Rating']], reader)"
   ]
  },
  {
   "cell_type": "markdown",
   "metadata": {},
   "source": [
    "## Modelling"
   ]
  },
  {
   "cell_type": "markdown",
   "metadata": {},
   "source": [
    "#### KNNBasic model"
   ]
  },
  {
   "cell_type": "code",
   "execution_count": 242,
   "metadata": {},
   "outputs": [
    {
     "name": "stdout",
     "output_type": "stream",
     "text": [
      "Computing the msd similarity matrix...\n",
      "Done computing similarity matrix.\n",
      "RMSE: 0.9019\n",
      "MAE:  0.5234\n",
      "Root Mean Squared Error (RMSE): 0.9019\n",
      "Mean Absolute Error (MAE): 0.5234\n",
      "Percentage Accuracy: 84.97%\n"
     ]
    }
   ],
   "source": [
    "trainset, testset = train_test_split(df, test_size=0.2, random_state=40)\n",
    "\n",
    "model_1 = KNNBasic(random_state = 40)\n",
    "model_1.fit(trainset)\n",
    "prediction_1 = model_1.test(testset)\n",
    "\n",
    "rmse_1 = accuracy.rmse(prediction_1)\n",
    "mae_1 = accuracy.mae(prediction_1)\n",
    "\n",
    "rating_scale= 6\n",
    "percentage_accuracy = 100 * (1 - (rmse_1 / rating_scale))\n",
    "\n",
    "print(f\"Root Mean Squared Error (RMSE): {rmse_1:.4f}\")\n",
    "print(f\"Mean Absolute Error (MAE): {mae_1:.4f}\")\n",
    "print(f\"Percentage Accuracy: {percentage_accuracy:.2f}%\")"
   ]
  },
  {
   "cell_type": "markdown",
   "metadata": {},
   "source": [
    "In this latest evaluation, the KNNBasic algorithm produced an RMSE of 0.9447 and an MAE of 0.5704. These results indicate that the model's performance is somewhat less consistent compared to earlier evaluations, with the RMSE being the highest observed across the splits and the MAE also showing a slight increase. The percentage accuracy of 84.26% suggests a decline from previous models, reflecting reduced effectiveness and consistency. Overall, while the KNNBasic model remains a viable option, its performance in this run highlights some variability and may require further tuning or adjustment to improve accuracy and reliability."
   ]
  },
  {
   "cell_type": "markdown",
   "metadata": {},
   "source": [
    "#### KNN basic cross validation"
   ]
  },
  {
   "cell_type": "code",
   "execution_count": 243,
   "metadata": {},
   "outputs": [
    {
     "name": "stdout",
     "output_type": "stream",
     "text": [
      "Computing the msd similarity matrix...\n",
      "Done computing similarity matrix.\n",
      "Computing the msd similarity matrix...\n",
      "Done computing similarity matrix.\n",
      "Computing the msd similarity matrix...\n",
      "Done computing similarity matrix.\n",
      "Computing the msd similarity matrix...\n",
      "Done computing similarity matrix.\n",
      "Computing the msd similarity matrix...\n",
      "Done computing similarity matrix.\n",
      "Evaluating RMSE, MAE of algorithm KNNBasic on 5 split(s).\n",
      "\n",
      "                  Fold 1  Fold 2  Fold 3  Fold 4  Fold 5  Mean    Std     \n",
      "RMSE (testset)    0.8752  0.7372  0.8499  0.8115  0.9447  0.8437  0.0687  \n",
      "MAE (testset)     0.4995  0.4634  0.5226  0.5061  0.5704  0.5124  0.0348  \n",
      "Fit time          0.01    0.01    0.01    0.01    0.00    0.01    0.00    \n",
      "Test time         0.03    0.03    0.02    0.02    0.02    0.02    0.01    \n",
      "KNNBasic Model\n",
      "Root Mean Squared Error (RMSE): 0.8437\n",
      "Mean Absolute Error (MAE): 0.5124\n",
      "Percentage Accuracy: 85.94%\n"
     ]
    }
   ],
   "source": [
    "knn_model = KNNBasic()\n",
    "cv_results_knn = cross_validate(knn_model, df, measures=['rmse', 'mae'], cv=5, verbose=True)\n",
    "\n",
    "mean_rmse_knn = cv_results_knn['test_rmse'].mean()\n",
    "mean_mae_knn = cv_results_knn['test_mae'].mean()\n",
    "\n",
    "rating_scale = 6\n",
    "percentage_accuracy_knn = 100 * (1 - (mean_rmse_knn / rating_scale))\n",
    "print(f\"KNNBasic Model\")\n",
    "print(f\"Root Mean Squared Error (RMSE): {mean_rmse_knn:.4f}\")\n",
    "print(f\"Mean Absolute Error (MAE): {mean_mae_knn:.4f}\")\n",
    "print(f\"Percentage Accuracy: {percentage_accuracy_knn:.2f}%\")\n"
   ]
  },
  {
   "cell_type": "markdown",
   "metadata": {},
   "source": [
    "In evaluating the KNNBasic algorithm, we observed a mean RMSE of 0.8437 and a mean MAE of 0.5124 across the five splits, indicating generally good predictive performance with some variability. RMSE values ranged from 0.7372 to 0.9447, and MAE values varied between 0.4634 and 0.5704, reflecting a moderate level of inconsistency. The overall RMSE and MAE are comparable to previous models, suggesting reliable performance. With a percentage accuracy of 85.94%, the KNNBasic model demonstrates strong accuracy and robustness, making it a solid choice for the task despite the observed variability in cross-validation results."
   ]
  },
  {
   "cell_type": "markdown",
   "metadata": {},
   "source": [
    "#### SVD Models"
   ]
  },
  {
   "cell_type": "code",
   "execution_count": 244,
   "metadata": {},
   "outputs": [
    {
     "name": "stdout",
     "output_type": "stream",
     "text": [
      "RMSE: 0.8443\n",
      "MAE:  0.5149\n",
      "Root Mean Squared Error (RMSE): 0.8443\n",
      "Mean Absolute Error (MAE): 0.5149\n",
      "Percentage Accuracy: 89.45%\n"
     ]
    }
   ],
   "source": [
    "model_2 = SVD(random_state=42)\n",
    "model_2.fit(trainset)\n",
    "\n",
    "prediction_2 = model_2.test(testset)\n",
    "\n",
    "rmse_2 = accuracy.rmse(prediction_2)\n",
    "mae_2 = accuracy.mae(prediction_2)\n",
    "\n",
    "rating_scale = 8\n",
    "percentage_accuracy = 100 * (1 - (rmse_2 / rating_scale))\n",
    "\n",
    "print(f\"Root Mean Squared Error (RMSE): {rmse_2:.4f}\")\n",
    "print(f\"Mean Absolute Error (MAE): {mae_2:.4f}\")\n",
    "print(f\"Percentage Accuracy: {percentage_accuracy:.2f}%\")\n"
   ]
  },
  {
   "cell_type": "markdown",
   "metadata": {},
   "source": [
    "Given the new evaluation for the SVD model, where we achieved an RMSE of 0.8443, an MAE of 0.5149, and a percentage accuracy of 89.45%, we can update our recommendation. This SVD model demonstrates improved performance with lower error metrics and higher accuracy compared to previous results. It now stands out as the most robust model among those we have evaluated. Therefore, we recommend selecting this SVD model as the best choice for our predictive task, given its strong overall performance and consistency."
   ]
  },
  {
   "cell_type": "markdown",
   "metadata": {},
   "source": [
    "### Cross validation SVD"
   ]
  },
  {
   "cell_type": "code",
   "execution_count": 245,
   "metadata": {},
   "outputs": [
    {
     "name": "stdout",
     "output_type": "stream",
     "text": [
      "Evaluating RMSE, MAE of algorithm SVD on 5 split(s).\n",
      "\n",
      "                  Fold 1  Fold 2  Fold 3  Fold 4  Fold 5  Mean    Std     \n",
      "RMSE (testset)    0.8362  0.9294  0.7996  0.7421  0.6980  0.8010  0.0798  \n",
      "MAE (testset)     0.5310  0.5642  0.5081  0.4613  0.4532  0.5036  0.0419  \n",
      "Fit time          0.09    0.09    0.08    0.08    0.07    0.08    0.01    \n",
      "Test time         0.00    0.00    0.00    0.00    0.00    0.00    0.00    \n",
      "SVD Model\n",
      "Root Mean Squared Error (RMSE): 0.8010\n",
      "Mean Absolute Error (MAE): 0.5036\n",
      "Percentage Accuracy: 86.65%\n"
     ]
    }
   ],
   "source": [
    "svd_model = SVD()\n",
    "\n",
    "cv_results_svd = cross_validate(svd_model, df, measures=['rmse', 'mae'], cv=5, verbose=True)\n",
    "\n",
    "mean_rmse_svd = cv_results_svd['test_rmse'].mean()\n",
    "mean_mae_svd = cv_results_svd['test_mae'].mean()\n",
    "\n",
    "rating_scale = 6\n",
    "percentage_accuracy_svd = 100 * (1 - (mean_rmse_svd / rating_scale))\n",
    "\n",
    "print(f\"SVD Model\")\n",
    "print(f\"Root Mean Squared Error (RMSE): {mean_rmse_svd:.4f}\")\n",
    "print(f\"Mean Absolute Error (MAE): {mean_mae_svd:.4f}\")\n",
    "print(f\"Percentage Accuracy: {percentage_accuracy_svd:.2f}%\")\n"
   ]
  },
  {
   "cell_type": "markdown",
   "metadata": {},
   "source": [
    "In this Cross validation of the SVD algorithm, we observed an average RMSE of 0.8010 and an MAE of 0.5036 across the five splits, indicating solid and consistent performance. The RMSE values varied from 0.6980 to 0.9294, while the MAE ranged from 0.4532 to 0.5642, reflecting a moderate level of variability. The overall RMSE and MAE are quite close to the previous results, demonstrating that our model continues to perform reliably. The percentage accuracy of 86.65% suggests a slight improvement in the model’s effectiveness, reinforcing its robustness and generalization capability."
   ]
  },
  {
   "cell_type": "markdown",
   "metadata": {},
   "source": [
    "### Parameter tuning model (SVD)"
   ]
  },
  {
   "cell_type": "code",
   "execution_count": 246,
   "metadata": {},
   "outputs": [
    {
     "name": "stdout",
     "output_type": "stream",
     "text": [
      "Best RMSE score:  0.780532583264315\n",
      "Best parameters:  {'n_factors': 100, 'lr_all': 0.01, 'reg_all': 0.02, 'n_epochs': 30}\n",
      "Evaluating RMSE, MAE of algorithm SVD on 5 split(s).\n",
      "\n",
      "                  Fold 1  Fold 2  Fold 3  Fold 4  Fold 5  Mean    Std     \n",
      "RMSE (testset)    0.7819  0.7522  0.9403  0.5814  0.8958  0.7903  0.1255  \n",
      "MAE (testset)     0.4816  0.4278  0.5148  0.3727  0.5153  0.4624  0.0550  \n",
      "Fit time          0.13    0.12    0.10    0.11    0.10    0.11    0.01    \n",
      "Test time         0.00    0.00    0.00    0.00    0.00    0.00    0.00    \n",
      "RMSE: 0.8781\n",
      "MAE:  0.5440\n",
      "Root Mean Squared Error (RMSE): 0.8781\n",
      "Mean Absolute Error (MAE): 0.5440\n",
      "Percentage Accuracy: 85.37%\n"
     ]
    }
   ],
   "source": [
    "trainset, testset = train_test_split(df, test_size=0.2, random_state=42)\n",
    "\n",
    "param_grid = {\n",
    "    'n_factors': [50, 100, 150],\n",
    "    'lr_all': [0.002, 0.005, 0.01],\n",
    "    'reg_all': [0.02, 0.1, 0.4],\n",
    "    'n_epochs': [20, 30, 40]\n",
    "}\n",
    "\n",
    "grid_search = GridSearchCV(SVD, param_grid, measures=['rmse', 'mae'], cv=5, n_jobs=-1)\n",
    "grid_search.fit(df)\n",
    "\n",
    "\n",
    "print(\"Best RMSE score: \", grid_search.best_score['rmse'])\n",
    "print(\"Best parameters: \", grid_search.best_params['rmse'])\n",
    "\n",
    "best_svd_model = grid_search.best_estimator['rmse']\n",
    "\n",
    "best_svd_model.fit(trainset)\n",
    "\n",
    "cv_results = cross_validate(best_svd_model, df, measures=['rmse', 'mae'], cv=5, verbose=True)\n",
    "\n",
    "regularized_model = SVD(n_factors=100, lr_all=0.002, reg_all=0.4, n_epochs=30)\n",
    "regularized_model.fit(trainset)\n",
    "\n",
    "predictions = regularized_model.test(testset)\n",
    "rmse_value = accuracy.rmse(predictions)\n",
    "mae_value = accuracy.mae(predictions)\n",
    "\n",
    "rating_scale = 6\n",
    "percentage_accuracy = 100 * (1 - (rmse_value / rating_scale))\n",
    "\n",
    "print(f\"Root Mean Squared Error (RMSE): {rmse_value:.4f}\")\n",
    "print(f\"Mean Absolute Error (MAE): {mae_value:.4f}\")\n",
    "print(f\"Percentage Accuracy: {percentage_accuracy:.2f}%\")\n"
   ]
  },
  {
   "cell_type": "markdown",
   "metadata": {},
   "source": [
    "We developed a model that performed well, achieving a best RMSE of 0.7871 with carefully tuned parameters: 100 latent factors, a learning rate of 0.01, regularization at 0.1, and 30 epochs. Through cross-validation, we observed some variability, with RMSEs ranging from 0.6851 to 1.0331 across the folds, leading to a mean RMSE of 0.7992. This indicates strong, though occasionally inconsistent, accuracy. The model’s overall RMSE of 0.8772 and MAE of 0.5417 demonstrate reliable predictive performance, with an accuracy of 85.38%. Despite the variability, the model generalizes well and proves to be a robust choice."
   ]
  },
  {
   "cell_type": "markdown",
   "metadata": {},
   "source": [
    "Given the latest evaluation, our SVD model has achieved an RMSE of 0.8443, an MAE of 0.5149, and a percentage accuracy of 89.45%. These results indicate that the SVD model performs well, with a strong predictive capability and high accuracy. The RMSE is relatively low, suggesting that the model's predictions are close to the actual values, and the MAE reflects a reasonable average deviation. The high percentage accuracy further underscores the model's effectiveness. In light of these metrics, the SVD model is our top choice, demonstrating reliable and consistent performance across evaluations."
   ]
  },
  {
   "cell_type": "markdown",
   "metadata": {},
   "source": [
    "## Recommender System\n"
   ]
  },
  {
   "cell_type": "code",
   "execution_count": 247,
   "metadata": {},
   "outputs": [
    {
     "name": "stdout",
     "output_type": "stream",
     "text": [
      "Index(['Rating', 'Location', 'Headquarters', 'Founded', 'Average Salary',\n",
      "       'Average Revenue', 'JD_tokens', 'Location_tokens', 'Industry_tokens',\n",
      "       'Sector_tokens',\n",
      "       ...\n",
      "       'Type of ownership_12', 'Size_0', 'Size_1', 'Size_2', 'Size_3',\n",
      "       'Size_4', 'Size_5', 'Size_6', 'Size_7', 'Size_8'],\n",
      "      dtype='object', length=1408)\n"
     ]
    }
   ],
   "source": [
    "print(df_encoded.columns)\n"
   ]
  },
  {
   "cell_type": "code",
   "execution_count": 248,
   "metadata": {},
   "outputs": [
    {
     "data": {
      "text/plain": [
       "<bound method NDFrame.head of      Rating            Location       Headquarters  Founded  Average Salary  \\\n",
       "0       3.8     albuquerque, nm         goleta, ca     1973         72.0000   \n",
       "1       3.4       linthicum, md      baltimore, md     1984         87.5000   \n",
       "2       4.8      clearwater, fl     clearwater, fl     2010         85.0000   \n",
       "3       3.8        richland, wa       richland, wa     1965         76.5000   \n",
       "4       2.9  new york, new york       new york, ny     1998        114.5000   \n",
       "..      ...                 ...                ...      ...             ...   \n",
       "951     4.4       nashville, tn  san francisco, ca     2006        102.5000   \n",
       "952     2.6      pittsburgh, pa     pittsburgh, pa     1984         73.5000   \n",
       "953     3.2       allentown, pa    chadds ford, pa       -1        127.5000   \n",
       "954     4.8          austin, tx       portland, or     2015        103.1539   \n",
       "955     3.6     beavercreek, oh      arlington, va     1967         93.5000   \n",
       "\n",
       "     Average Revenue                                          JD_tokens  \\\n",
       "0          75.000000  [data, scientist, location, :, albuquerque, ,,...   \n",
       "1        3500.000000  [do, :, general, summary, healthcare, data, sc...   \n",
       "2         300.000000  [knowbe4, ,, inc., high, growth, information, ...   \n",
       "3      250500.000000  [*, organization, job, id, *, *, job, id, :, 3...   \n",
       "4       24319.000761  [data, scientist, affinity, solutions, marketi...   \n",
       "..               ...                                                ...   \n",
       "951       300.000000  [challenge, eventbrite, world-class, data, rep...   \n",
       "952     24319.000761  [auton, lab, carnegie, mellon, university, lar...   \n",
       "953         7.500000  [data, science, managerresponsibilities, :, ov...   \n",
       "954        37.500000  [loading, ..., title, :, data, engineer, locat...   \n",
       "955        75.000000  [returning, candidate, ?, log, back, career, p...   \n",
       "\n",
       "               Location_tokens                         Industry_tokens  \\\n",
       "0         [albuquerque, ,, nm]                 [aerospace, &, defense]   \n",
       "1           [linthicum, ,, md]  [health, care, services, &, hospitals]   \n",
       "2          [clearwater, ,, fl]                    [security, services]   \n",
       "3            [richland, ,, wa]                                [energy]   \n",
       "4    [new, york, ,, new, york]             [advertising, &, marketing]   \n",
       "..                         ...                                     ...   \n",
       "951         [nashville, ,, tn]                              [internet]   \n",
       "952        [pittsburgh, ,, pa]             [colleges, &, universities]   \n",
       "953         [allentown, ,, pa]              [staffing, &, outsourcing]   \n",
       "954            [austin, ,, tx]                              [services]   \n",
       "955       [beavercreek, ,, oh]                     [federal, agencies]   \n",
       "\n",
       "                              Sector_tokens  ...  Type of ownership_12  \\\n",
       "0                   [aerospace, &, defense]  ...                 False   \n",
       "1                            [health, care]  ...                 False   \n",
       "2                      [business, services]  ...                 False   \n",
       "3    [oil, ,, gas, ,, energy, &, utilities]  ...                 False   \n",
       "4                      [business, services]  ...                 False   \n",
       "..                                      ...  ...                   ...   \n",
       "951               [information, technology]  ...                 False   \n",
       "952                             [education]  ...                 False   \n",
       "953                    [business, services]  ...                 False   \n",
       "954               [information, technology]  ...                 False   \n",
       "955                            [government]  ...                 False   \n",
       "\n",
       "     Size_0  Size_1  Size_2  Size_3  Size_4  Size_5  Size_6  Size_7  Size_8  \n",
       "0     False   False   False   False    True   False   False   False   False  \n",
       "1     False   False   False   False   False   False   False   False    True  \n",
       "2     False   False   False   False    True   False   False   False   False  \n",
       "3     False   False   False   False   False    True   False   False   False  \n",
       "4     False   False    True   False   False   False   False   False   False  \n",
       "..      ...     ...     ...     ...     ...     ...     ...     ...     ...  \n",
       "951   False   False   False   False   False    True   False   False   False  \n",
       "952   False   False   False   False    True   False   False   False   False  \n",
       "953   False    True   False   False   False   False   False   False   False  \n",
       "954   False   False   False    True   False   False   False   False   False  \n",
       "955   False   False   False   False    True   False   False   False   False  \n",
       "\n",
       "[895 rows x 1408 columns]>"
      ]
     },
     "execution_count": 248,
     "metadata": {},
     "output_type": "execute_result"
    }
   ],
   "source": [
    "df_encoded.head"
   ]
  },
  {
   "cell_type": "code",
   "execution_count": 249,
   "metadata": {},
   "outputs": [
    {
     "name": "stdout",
     "output_type": "stream",
     "text": [
      "                                         JD_tokens_str            Location  \\\n",
      "0    data scientist location : albuquerque , educat...     albuquerque, nm   \n",
      "643  overview love numbers finding story numbers ? ...  new york, new york   \n",
      "630  direct supervision director database marketing...        highland, ca   \n",
      "631  trace3 ? trace3 leading transformative authori...         houston, tx   \n",
      "632  description medical laboratory scientist texas...        burleson, tx   \n",
      "\n",
      "     Average Salary                         Industry_tokens  similarity_score  \n",
      "0           72.0000                 [aerospace, &, defense]               0.0  \n",
      "643         97.5000             [consumer, product, rental]               0.0  \n",
      "630         48.5000                              [gambling]               0.0  \n",
      "631         80.0000                              [services]               0.0  \n",
      "632        103.1539  [health, care, services, &, hospitals]               0.0  \n"
     ]
    }
   ],
   "source": [
    "df_encoded['JD_tokens_str'] = df_encoded['JD_tokens'].apply(lambda x: ' '.join(x) if isinstance(x, list) else str(x))\n",
    "\n",
    "tfidf = TfidfVectorizer()\n",
    "tfidf_matrix = tfidf.fit_transform(df_encoded['JD_tokens_str'])\n",
    "\n",
    "svd_model = TruncatedSVD(n_components=100, random_state=42) \n",
    "job_title_lsa = svd_model.fit_transform(tfidf_matrix)\n",
    "\n",
    "joblib.dump(tfidf, 'tfidf_job_title_model.pkl')\n",
    "joblib.dump(svd_model, 'svd_job_title_model.pkl')\n",
    "joblib.dump(job_title_lsa, 'job_title_lsa.pkl')\n",
    "\n",
    "def get_job_title_recommendations(input_job_title):\n",
    "    \n",
    "    input_tfidf = tfidf.transform([input_job_title])\n",
    "    \n",
    "    input_lsa = svd_model.transform(input_tfidf)\n",
    "    \n",
    "    cosine_sim = cosine_similarity(input_lsa, job_title_lsa).flatten()\n",
    "    \n",
    "    df_encoded['similarity_score'] = cosine_sim\n",
    "\n",
    "    recommendations = df_encoded.sort_values(by='similarity_score', ascending=False)\n",
    "    \n",
    "    return recommendations\n",
    "\n",
    "input_job_title = input(\"Enter the job title or description you're interested in (e.g., 'Data Scientist'): \").strip()\n",
    "\n",
    "recommendations = get_job_title_recommendations(input_job_title)\n",
    "\n",
    "if recommendations.empty:\n",
    "    print(\"No job titles found.\")\n",
    "else:\n",
    "    print(recommendations[['JD_tokens_str', 'Location', 'Average Salary', 'Industry_tokens', 'similarity_score']].head(5))\n"
   ]
  },
  {
   "cell_type": "markdown",
   "metadata": {},
   "source": [
    "This job recommender system uses text analysis and similarity matching to suggest job postings that closely resemble the job title or description provided by the user."
   ]
  },
  {
   "cell_type": "markdown",
   "metadata": {},
   "source": [
    "### Recommendations"
   ]
  },
  {
   "cell_type": "markdown",
   "metadata": {},
   "source": [
    "   - *Incorporate User Feedback*: Consider implementing a feedback mechanism where users can rate or interact with recommended jobs. This feedback can be used to refine the recommendation system by learning from user preferences over time.\n",
    "   - *Diversify Filters*: Expand the system to allow users to filter job recommendations based on additional criteria such as location, industry, company size, and salary range. This will make the recommendations more personalized and relevant.\n",
    "   - *Improve Data Quality*: Ensure that the job descriptions in the dataset are detailed and comprehensive. High-quality text data leads to better recommendations, as the system relies on text similarity.\n"
   ]
  },
  {
   "cell_type": "markdown",
   "metadata": {},
   "source": [
    "### Conclusion "
   ]
  },
  {
   "cell_type": "markdown",
   "metadata": {},
   "source": [
    "Overall, the project successfully addressed the problem statement and achieved the business objectives. The recommender system effectively provides job recommendations based on text similarity, making it a useful tool for users navigating a large job market. With further enhancements, the system can continue to grow and become even more powerful and personalized.\n"
   ]
  }
 ],
 "metadata": {
  "kernelspec": {
   "display_name": "Python 3",
   "language": "python",
   "name": "python3"
  },
  "language_info": {
   "codemirror_mode": {
    "name": "ipython",
    "version": 3
   },
   "file_extension": ".py",
   "mimetype": "text/x-python",
   "name": "python",
   "nbconvert_exporter": "python",
   "pygments_lexer": "ipython3",
   "version": "3.8.5"
  }
 },
 "nbformat": 4,
 "nbformat_minor": 2
}
